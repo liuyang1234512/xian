{
 "cells": [
  {
   "cell_type": "code",
   "execution_count": 2,
   "metadata": {},
   "outputs": [],
   "source": [
    "# 广度优先遍历\n",
    "# mro():\n",
    "#     {Developer,Worker,Student,Person,Object}"
   ]
  },
  {
   "cell_type": "code",
   "execution_count": 3,
   "metadata": {},
   "outputs": [],
   "source": [
    "# 类函数   @classmethod\n",
    "# 静态函数   @staticmethod\n",
    "# 属性方法   @property\n",
    "# 其他函数  hasattr()   getattr()   "
   ]
  },
  {
   "cell_type": "code",
   "execution_count": null,
   "metadata": {},
   "outputs": [],
   "source": [
    "import pymysql \n",
    "params = {\n",
    "    'host':'127.0.0.1',\n",
    "    'port':3306,\n",
    "    'user':'root',\n",
    "    'password':'root',\n",
    "    'db':'mysql',\n",
    "    'charset':'utf8'\n",
    "}\n",
    "conn = pymysql.Connect(**params)\n",
    "print('链接成功')\n",
    "cursor = conn.cursor()\n",
    "cursor.execute('desc user')\n",
    "for row in cursor.fetchall():\n",
    "    print(row)\n",
    "print('---关闭数据库----')\n",
    "cursor.close()\n",
    "conn.close()"
   ]
  }
 ],
 "metadata": {
  "kernelspec": {
   "display_name": "Python 3",
   "language": "python",
   "name": "python3"
  },
  "language_info": {
   "codemirror_mode": {
    "name": "ipython",
    "version": 3
   },
   "file_extension": ".py",
   "mimetype": "text/x-python",
   "name": "python",
   "nbconvert_exporter": "python",
   "pygments_lexer": "ipython3",
   "version": "3.6.5"
  }
 },
 "nbformat": 4,
 "nbformat_minor": 2
}
