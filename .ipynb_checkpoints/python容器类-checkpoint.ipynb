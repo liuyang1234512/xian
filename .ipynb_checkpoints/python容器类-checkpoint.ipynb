{
 "cells": [
  {
   "cell_type": "markdown",
   "metadata": {},
   "source": [
    " ### 推导式嵌套。"
   ]
  },
  {
   "cell_type": "code",
   "execution_count": 10,
   "metadata": {},
   "outputs": [
    {
     "data": {
      "text/plain": [
       "[('rose', 19, 100), ('disen', 20, 50), ('jack', 21, 70)]"
      ]
     },
     "execution_count": 10,
     "metadata": {},
     "output_type": "execute_result"
    }
   ],
   "source": [
    "l_ = [('disen', 20, 50),('jack', 21, 70),('rose',19,100)]\n",
    "l_.sort(key=lambda x: x[1]) # 按年龄排序,从小到大 , reverse=True，从大到小。\n",
    "l_\n",
    "sorted(l_,key=lambda x: x[2],reverse=True)"
   ]
  },
  {
   "cell_type": "code",
   "execution_count": 11,
   "metadata": {},
   "outputs": [
    {
     "data": {
      "text/plain": [
       "[('rose', 19, 100), ('disen', 20, 50), ('jack', 21, 70)]"
      ]
     },
     "execution_count": 11,
     "metadata": {},
     "output_type": "execute_result"
    }
   ],
   "source": [
    "l_"
   ]
  },
  {
   "cell_type": "code",
   "execution_count": 13,
   "metadata": {},
   "outputs": [
    {
     "data": {
      "text/plain": [
       "[1, 2, 3, 4, 5, 6]"
      ]
     },
     "execution_count": 13,
     "metadata": {},
     "output_type": "execute_result"
    }
   ],
   "source": [
    "# 给定列表 \n",
    "# [[1,2],[3,4],[5,6]]     [1,2,3,4,5,6]\n",
    "# 嵌套用推导式。\n",
    "l = [[1,2],[3,4],[5,6]] \n",
    "[i for item in l for i in item] "
   ]
  },
  {
   "cell_type": "code",
   "execution_count": 23,
   "metadata": {},
   "outputs": [
    {
     "data": {
      "text/plain": [
       "{'disen': 'name', 20: 'age', 10000.34: 'salary'}"
      ]
     },
     "execution_count": 23,
     "metadata": {},
     "output_type": "execute_result"
    }
   ],
   "source": [
    "d = {'name':'disen','age':20,'salary':10000.34}\n",
    "# 一行代码实现key和value的转换\n",
    "{value:key for key, value in d.items()}\n",
    "{d.get(key):key for key in d}"
   ]
  },
  {
   "cell_type": "markdown",
   "metadata": {},
   "source": [
    "### 集合"
   ]
  },
  {
   "cell_type": "code",
   "execution_count": 26,
   "metadata": {},
   "outputs": [
    {
     "data": {
      "text/plain": [
       "'cadgfs'"
      ]
     },
     "execution_count": 26,
     "metadata": {},
     "output_type": "execute_result"
    }
   ],
   "source": [
    "# 给定字符串'acdfgsdccsa',快速去重后，排序。\n",
    "''.join(list(set('acdfgsdccsa')))   # 不用list也可以。\n",
    "# set后成为了列表。因为set本身是可迭代的。要排序必须变成list，因为集合是无序的。"
   ]
  },
  {
   "cell_type": "markdown",
   "metadata": {},
   "source": [
    "### 字典"
   ]
  },
  {
   "cell_type": "code",
   "execution_count": null,
   "metadata": {},
   "outputs": [],
   "source": [
    "keys()\n",
    "values()\n",
    "items()\n",
    "pop(key)\n",
    "update({})\n",
    "setdefault(key,value)"
   ]
  },
  {
   "cell_type": "code",
   "execution_count": null,
   "metadata": {},
   "outputs": [],
   "source": [
    "# 如何删除字典的key，以及合并两个字典。del和pop update\n",
    ">>> dir(dict)\n",
    "['__class__', '__contains__', '__delattr__', '__delitem__', '__dir__', '__doc__', '__eq__', '__format__', '__ge__', '__getattribute__', '__getitem__', '__gt__', '__hash__', '__init__', '__init_subclass__', '__iter__', '__le__', '__len__', '__lt__', '__ne__', '__new__', '__reduce__', '__reduce_ex__', '__repr__', '__setattr__', '__setitem__', '__sizeof__', '__str__', '__subclasshook__', 'clear', 'copy', 'fromkeys', 'get', 'items', 'keys', 'pop', 'popitem', 'setdefault', 'update', 'values']\n"
   ]
  },
  {
   "cell_type": "code",
   "execution_count": null,
   "metadata": {},
   "outputs": [],
   "source": [
    ">>> a = {'1':'haha'}\n",
    ">>> a.clear()\n",
    ">>> a\n",
    "{}"
   ]
  },
  {
   "cell_type": "code",
   "execution_count": null,
   "metadata": {},
   "outputs": [],
   "source": [
    "面试题  \n",
    "空列表对象是否可以作为函数参数的默认值。\n",
    "不可以，因为是引用传值。"
   ]
  },
  {
   "cell_type": "code",
   "execution_count": 27,
   "metadata": {},
   "outputs": [
    {
     "name": "stdout",
     "output_type": "stream",
     "text": [
      "[9]\n",
      "[1, 2, 3, 10]\n",
      "[9, 11]\n"
     ]
    }
   ],
   "source": [
    "def ac(a,l=[]):   #空列表不能作为参数的默认值。\n",
    "    l.append(a)\n",
    "    print(l)\n",
    "ac(9)  #输出9\n",
    "ac(10,[1,2,3])  #输出[1,2,3,10]\n",
    "ac(11) #输出 [9,11] 期望输出的是11"
   ]
  },
  {
   "cell_type": "code",
   "execution_count": 28,
   "metadata": {},
   "outputs": [
    {
     "name": "stdout",
     "output_type": "stream",
     "text": [
      "[0, 9, 1, 2]\n"
     ]
    }
   ],
   "source": [
    "def ac(l):\n",
    "    l += [1,2]\n",
    "    l = [5,6]\n",
    "l = [0,9]\n",
    "ac(l)\n",
    "print(l)   # 内存空间指向。"
   ]
  },
  {
   "cell_type": "code",
   "execution_count": null,
   "metadata": {},
   "outputs": [],
   "source": [
    "字典中key的删除    del d['key']/d.pop('key')\n",
    "合并两个字典 d1.update(d2)"
   ]
  },
  {
   "cell_type": "markdown",
   "metadata": {},
   "source": [
    "### 不通过内置函数，来判断n是否存在于一个列表中。"
   ]
  },
  {
   "cell_type": "code",
   "execution_count": 2,
   "metadata": {},
   "outputs": [
    {
     "data": {
      "text/plain": [
       "False"
      ]
     },
     "execution_count": 2,
     "metadata": {},
     "output_type": "execute_result"
    }
   ],
   "source": [
    "l  = [1,2,3,4,5,6,7]\n",
    "def exists_(args, n):\n",
    "    return n in args\n",
    "exists_(l,34)"
   ]
  },
  {
   "cell_type": "code",
   "execution_count": 3,
   "metadata": {},
   "outputs": [
    {
     "data": {
      "text/plain": [
       "True"
      ]
     },
     "execution_count": 3,
     "metadata": {},
     "output_type": "execute_result"
    }
   ],
   "source": [
    "exists_(l,7)"
   ]
  },
  {
   "cell_type": "code",
   "execution_count": 6,
   "metadata": {},
   "outputs": [
    {
     "data": {
      "text/plain": [
       "False"
      ]
     },
     "execution_count": 6,
     "metadata": {},
     "output_type": "execute_result"
    }
   ],
   "source": [
    "#  不通过内置函数，来判断key是否存在字典中\n",
    "l = {'name':'disen','age':10}\n",
    "def exist_dict(args,n):\n",
    "    return n in args\n",
    "exist_dict(l, 'sex')\n",
    "# in 会通过迭代的 方式，获取里面的元素"
   ]
  },
  {
   "cell_type": "markdown",
   "metadata": {},
   "source": [
    "## 迭代器"
   ]
  },
  {
   "cell_type": "code",
   "execution_count": 1,
   "metadata": {},
   "outputs": [
    {
     "name": "stdout",
     "output_type": "stream",
     "text": [
      "10\n",
      "20\n",
      "90\n",
      "---over----\n"
     ]
    }
   ],
   "source": [
    "# iter()函数\n",
    "class Nums:\n",
    "    def __init__(self):\n",
    "        self.l_ = []\n",
    "    def add(self, *n):\n",
    "        for i in n:\n",
    "            self.l_.append(i)\n",
    "    def __iter__(self):\n",
    "        return iter(self.l_)   #返回迭代器。\n",
    "ns = Nums()\n",
    "ns.add(10,20,90)\n",
    "# for i in ns:   #ns对象可以被迭代。\n",
    "#     print(i)\n",
    "# next(iter(ns))\n",
    "# next(ns.__iter__())\n",
    "ns_i = ns.__iter__()\n",
    "# next(ns_i)\n",
    "# next(ns_i)\n",
    "# next(ns_i)\n",
    "# next(ns_i)\n",
    "# next(ns_i)\n",
    "while True:\n",
    "    try:\n",
    "        print(next(ns_i))\n",
    "    except StopIteration as e:\n",
    "        break\n",
    "print('---over----')"
   ]
  },
  {
   "cell_type": "code",
   "execution_count": null,
   "metadata": {},
   "outputs": [],
   "source": [
    "\n"
   ]
  },
  {
   "cell_type": "code",
   "execution_count": null,
   "metadata": {},
   "outputs": [],
   "source": []
  },
  {
   "cell_type": "code",
   "execution_count": null,
   "metadata": {},
   "outputs": [],
   "source": []
  },
  {
   "cell_type": "code",
   "execution_count": null,
   "metadata": {},
   "outputs": [],
   "source": []
  },
  {
   "cell_type": "code",
   "execution_count": null,
   "metadata": {},
   "outputs": [],
   "source": []
  },
  {
   "cell_type": "code",
   "execution_count": null,
   "metadata": {},
   "outputs": [],
   "source": []
  },
  {
   "cell_type": "code",
   "execution_count": null,
   "metadata": {},
   "outputs": [],
   "source": []
  }
 ],
 "metadata": {
  "kernelspec": {
   "display_name": "Python 3",
   "language": "python",
   "name": "python3"
  },
  "language_info": {
   "codemirror_mode": {
    "name": "ipython",
    "version": 3
   },
   "file_extension": ".py",
   "mimetype": "text/x-python",
   "name": "python",
   "nbconvert_exporter": "python",
   "pygments_lexer": "ipython3",
   "version": "3.6.5"
  }
 },
 "nbformat": 4,
 "nbformat_minor": 2
}
