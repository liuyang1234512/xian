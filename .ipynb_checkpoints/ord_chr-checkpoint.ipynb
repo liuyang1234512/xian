{
 "cells": [
  {
   "cell_type": "markdown",
   "metadata": {},
   "source": [
    "### django和wsgi的关系？"
   ]
  },
  {
   "cell_type": "markdown",
   "metadata": {},
   "source": [
    "## 数据类型"
   ]
  },
  {
   "cell_type": "code",
   "execution_count": 2,
   "metadata": {},
   "outputs": [
    {
     "data": {
      "text/plain": [
       "37"
      ]
     },
     "execution_count": 2,
     "metadata": {},
     "output_type": "execute_result"
    }
   ],
   "source": [
    "ord('%')   #显示指定字符的ASCII值。"
   ]
  },
  {
   "cell_type": "code",
   "execution_count": 3,
   "metadata": {},
   "outputs": [
    {
     "data": {
      "text/plain": [
       "'-'"
      ]
     },
     "execution_count": 3,
     "metadata": {},
     "output_type": "execute_result"
    }
   ],
   "source": [
    "chr(45)   #显示指定ASCII值的字符。"
   ]
  },
  {
   "cell_type": "code",
   "execution_count": 4,
   "metadata": {},
   "outputs": [
    {
     "data": {
      "text/plain": [
       "'\\x91'"
      ]
     },
     "execution_count": 4,
     "metadata": {},
     "output_type": "execute_result"
    }
   ],
   "source": [
    "chr(145)"
   ]
  },
  {
   "cell_type": "code",
   "execution_count": 9,
   "metadata": {},
   "outputs": [
    {
     "name": "stdout",
     "output_type": "stream",
     "text": [
      "2\n",
      "1\n"
     ]
    }
   ],
   "source": [
    "import random\n",
    "print(random.randint(1,2)) #产生1 或 2\n",
    "print(random.randrange(1,2)) #产生 【1,2)"
   ]
  },
  {
   "cell_type": "code",
   "execution_count": 10,
   "metadata": {},
   "outputs": [
    {
     "name": "stdout",
     "output_type": "stream",
     "text": [
      "0.17300418443425325\n"
     ]
    }
   ],
   "source": [
    "print(random.random())"
   ]
  },
  {
   "cell_type": "code",
   "execution_count": 16,
   "metadata": {},
   "outputs": [
    {
     "name": "stdout",
     "output_type": "stream",
     "text": [
      "8\n"
     ]
    }
   ],
   "source": [
    "ch_ = random.randint(ord('0'),ord('9'))\n",
    "print(chr(ch_))"
   ]
  },
  {
   "cell_type": "code",
   "execution_count": 17,
   "metadata": {},
   "outputs": [
    {
     "name": "stdout",
     "output_type": "stream",
     "text": [
      "o\n"
     ]
    }
   ],
   "source": [
    "ch_ = random.randint(ord('a'),ord('z'))\n",
    "print(chr(ch_))"
   ]
  },
  {
   "cell_type": "code",
   "execution_count": 18,
   "metadata": {},
   "outputs": [
    {
     "name": "stdout",
     "output_type": "stream",
     "text": [
      "N\n"
     ]
    }
   ],
   "source": [
    "ch_ = random.randint(ord('A'),ord('Z'))\n",
    "print(chr(ch_))"
   ]
  },
  {
   "cell_type": "code",
   "execution_count": 24,
   "metadata": {},
   "outputs": [
    {
     "name": "stdout",
     "output_type": "stream",
     "text": [
      "FldcDcR\n"
     ]
    }
   ],
   "source": [
    "def randomChr(startChr, endChr):\n",
    "    return chr(random.randint(ord(startChr),ord(endChr)))\n",
    "\n",
    "def randomNChr(n):   #随机产生n个长度的字符\n",
    "    newStr_ = []\n",
    "    for _ in range(n):\n",
    "        rd_ = random.randint(0,2)  # 0代表数字，1代表小写字母，2代表大写字母。\n",
    "        randomStrs = ('0','9') if rd_ == 0 else ('a', 'z') if rd_ == 1 else ('A', 'Z')  #三元操作符。\n",
    "        newStr_.append(randomChr(*randomStrs))  #解包\n",
    "    return ''.join(newStr_)\n",
    "print(randomNChr(7))"
   ]
  },
  {
   "cell_type": "markdown",
   "metadata": {},
   "source": [
    "### int"
   ]
  },
  {
   "cell_type": "code",
   "execution_count": 25,
   "metadata": {},
   "outputs": [
    {
     "data": {
      "text/plain": [
       "4"
      ]
     },
     "execution_count": 25,
     "metadata": {},
     "output_type": "execute_result"
    }
   ],
   "source": [
    "int('100',base=2) base表示二进制。"
   ]
  },
  {
   "cell_type": "code",
   "execution_count": null,
   "metadata": {},
   "outputs": [],
   "source": [
    ">>> bin(2)\n",
    "'0b10'   #0b 二进制\n",
    ">>> oct(2)\n",
    "'0o2' 0o 八进制\n",
    ">>> hex(2)\n",
    "'0x2' 0x十六进制\n",
    ">>> int('0b10',base=2)\n",
    "2   必须加上base"
   ]
  },
  {
   "cell_type": "markdown",
   "metadata": {},
   "source": [
    "### bool"
   ]
  },
  {
   "cell_type": "code",
   "execution_count": null,
   "metadata": {},
   "outputs": [],
   "source": [
    "哪些字符是False \n",
    "0 None [] ''\n",
    ">>> bool(0)\n",
    "False\n",
    ">>> bool([])\n",
    "False\n",
    ">>> bool(())\n",
    "False\n",
    ">>> bool(None)\n",
    "False\n",
    ">>> bool({})\n",
    "False\n",
    ">>> bool(('',))\n",
    "True"
   ]
  },
  {
   "cell_type": "code",
   "execution_count": null,
   "metadata": {},
   "outputs": [],
   "source": [
    ">>> True & 1\n",
    "1 位与操作      按位与&：全1才1否则0."
   ]
  },
  {
   "cell_type": "code",
   "execution_count": null,
   "metadata": {},
   "outputs": [],
   "source": []
  },
  {
   "cell_type": "markdown",
   "metadata": {},
   "source": [
    "### 权限"
   ]
  },
  {
   "cell_type": "code",
   "execution_count": 41,
   "metadata": {},
   "outputs": [
    {
     "name": "stdout",
     "output_type": "stream",
     "text": [
      "没有delete权限\n",
      "没有update权限\n",
      "0\n"
     ]
    }
   ],
   "source": [
    "# 1:  add\n",
    "# 2: update\n",
    "# 4: delete\n",
    "# 8: query\n",
    "rs = {1:'add',2:'update',4:'delete',8:'query'}\n",
    "rights = 0\n",
    "# rights = 1 | 2 | 8\n",
    "def addRights(right):\n",
    "    global rights\n",
    "    right |= right\n",
    "def exists(right):\n",
    "    if rights & right == right:\n",
    "        print('拥有%s权限' % rs.get(right))\n",
    "        return True\n",
    "    else:\n",
    "        print('没有%s权限' % rs.get(right))\n",
    "        return False\n",
    "def  remove(right):\n",
    "    if exists(right):\n",
    "        right ^= right\n",
    "        print('您已成功取消%s 权限' % rs.get(right))\n",
    "addRights(1)\n",
    "addRights(2)\n",
    "exists(4)\n",
    "remove(2)\n",
    "print(rights)"
   ]
  },
  {
   "cell_type": "code",
   "execution_count": 43,
   "metadata": {},
   "outputs": [
    {
     "data": {
      "text/plain": [
       "True"
      ]
     },
     "execution_count": 43,
     "metadata": {},
     "output_type": "execute_result"
    }
   ],
   "source": [
    "any((1==1, 1>1, 1<1))  any函数中是可迭代对象。"
   ]
  },
  {
   "cell_type": "code",
   "execution_count": 44,
   "metadata": {},
   "outputs": [
    {
     "data": {
      "text/plain": [
       "False"
      ]
     },
     "execution_count": 44,
     "metadata": {},
     "output_type": "execute_result"
    }
   ],
   "source": [
    "all((1==1, 1>1, 1<1))  #都是python内置函数。"
   ]
  },
  {
   "cell_type": "markdown",
   "metadata": {},
   "source": [
    "## 字节   IO操作"
   ]
  },
  {
   "cell_type": "code",
   "execution_count": null,
   "metadata": {},
   "outputs": [],
   "source": [
    "#r+b w+b 文件不存在，r会报错，w会创建文件。"
   ]
  },
  {
   "cell_type": "code",
   "execution_count": 45,
   "metadata": {},
   "outputs": [],
   "source": [
    "# 网络读写"
   ]
  },
  {
   "cell_type": "code",
   "execution_count": null,
   "metadata": {},
   "outputs": [],
   "source": [
    "socket.send()\n",
    "socket.recv()"
   ]
  },
  {
   "cell_type": "code",
   "execution_count": null,
   "metadata": {},
   "outputs": [],
   "source": [
    "# 管道Pipe\n",
    "字符转字节 ’‘.encode('utf-8')\n",
    "字节转字符   b''.decode('utf-8')"
   ]
  },
  {
   "cell_type": "code",
   "execution_count": null,
   "metadata": {},
   "outputs": [],
   "source": []
  },
  {
   "cell_type": "code",
   "execution_count": null,
   "metadata": {},
   "outputs": [],
   "source": []
  },
  {
   "cell_type": "code",
   "execution_count": null,
   "metadata": {},
   "outputs": [],
   "source": []
  },
  {
   "cell_type": "code",
   "execution_count": null,
   "metadata": {},
   "outputs": [],
   "source": []
  },
  {
   "cell_type": "code",
   "execution_count": null,
   "metadata": {},
   "outputs": [],
   "source": []
  }
 ],
 "metadata": {
  "kernelspec": {
   "display_name": "Python 3",
   "language": "python",
   "name": "python3"
  },
  "language_info": {
   "codemirror_mode": {
    "name": "ipython",
    "version": 3
   },
   "file_extension": ".py",
   "mimetype": "text/x-python",
   "name": "python",
   "nbconvert_exporter": "python",
   "pygments_lexer": "ipython3",
   "version": "3.6.5"
  }
 },
 "nbformat": 4,
 "nbformat_minor": 2
}
